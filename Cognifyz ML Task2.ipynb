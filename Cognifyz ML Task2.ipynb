{
 "cells": [
  {
   "cell_type": "code",
   "execution_count": 1,
   "id": "98ffb28d",
   "metadata": {},
   "outputs": [
    {
     "name": "stdout",
     "output_type": "stream",
     "text": [
      "                  Restaurant Name Cuisines  Price range  Aggregate rating\n",
      "93   House of China Restaurant II  Chinese            1               3.8\n",
      "172            Ting's Red Lantern  Chinese            1               4.2\n",
      "199  Chef Lee's Peking Restaurant  Chinese            2               4.0\n",
      "241                    China Cafe  Chinese            2               4.0\n",
      "263              Tsing Tsao South  Chinese            1               4.1\n"
     ]
    }
   ],
   "source": [
    "import pandas as pd\n",
    "from sklearn.metrics.pairwise import cosine_similarity\n",
    "from sklearn.feature_extraction.text import CountVectorizer\n",
    "\n",
    "# Load your dataset\n",
    "df = pd.read_csv(\"C:/Users/DynaBook/Downloads/archive (11)/zomato.csv\",encoding=\"ISO-8859-1\")  # Replace with the actual path to your dataset\n",
    "\n",
    "# Step 1: Preprocess the data\n",
    "# Fill missing values if any\n",
    "df['Cuisines'] = df['Cuisines'].fillna('Unknown')\n",
    "df['Price range'] = df['Price range'].fillna(df['Price range'].mean())\n",
    "df['Aggregate rating'] = df['Aggregate rating'].fillna(df['Aggregate rating'].mean())\n",
    "\n",
    "# Step 2: Combine relevant features (Cuisines, Price Range, and Aggregate Rating) into a single string\n",
    "df['Combined Features'] = df['Cuisines'] + ' ' + df['Price range'].astype(str) + ' ' + df['Aggregate rating'].astype(str)\n",
    "\n",
    "# Step 3: Create a count matrix based on the combined features\n",
    "count_vectorizer = CountVectorizer()\n",
    "count_matrix = count_vectorizer.fit_transform(df['Combined Features'])\n",
    "\n",
    "# Step 4: Compute cosine similarity based on the count matrix\n",
    "cosine_sim = cosine_similarity(count_matrix)\n",
    "\n",
    "# Step 5: Function to recommend similar restaurants\n",
    "def recommend_restaurants(restaurant_name, df, cosine_sim):\n",
    "    try:\n",
    "        # Get the index of the restaurant that matches the name\n",
    "        idx = df[df['Restaurant Name'] == restaurant_name].index[0]\n",
    "    except IndexError:\n",
    "        return \"Restaurant not found in the dataset.\"\n",
    "    \n",
    "    # Get a list of similarity scores for all restaurants\n",
    "    sim_scores = list(enumerate(cosine_sim[idx]))\n",
    "\n",
    "    # Sort the restaurants by similarity scores\n",
    "    sim_scores = sorted(sim_scores, key=lambda x: x[1], reverse=True)\n",
    "\n",
    "    # Get the indices of the most similar restaurants (excluding the input restaurant itself)\n",
    "    sim_scores = sim_scores[1:6]  # Adjust the number of recommendations as needed (e.g., top 5 similar restaurants)\n",
    "\n",
    "    # Return the top 5 most similar restaurants\n",
    "    restaurant_indices = [i[0] for i in sim_scores]\n",
    "    \n",
    "    # Return a DataFrame of recommended restaurants with relevant details\n",
    "    return df[['Restaurant Name', 'Cuisines', 'Price range', 'Aggregate rating']].iloc[restaurant_indices]\n",
    "\n",
    "# Example usage\n",
    "restaurant_to_recommend = 'Din Tai Fung' \n",
    "recommendations = recommend_restaurants(restaurant_to_recommend, df, cosine_sim)\n",
    "\n",
    "# Display the recommendations\n",
    "print(recommendations)\n"
   ]
  },
  {
   "cell_type": "code",
   "execution_count": null,
   "id": "22f20433",
   "metadata": {},
   "outputs": [],
   "source": []
  }
 ],
 "metadata": {
  "kernelspec": {
   "display_name": "Python 3 (ipykernel)",
   "language": "python",
   "name": "python3"
  },
  "language_info": {
   "codemirror_mode": {
    "name": "ipython",
    "version": 3
   },
   "file_extension": ".py",
   "mimetype": "text/x-python",
   "name": "python",
   "nbconvert_exporter": "python",
   "pygments_lexer": "ipython3",
   "version": "3.11.5"
  }
 },
 "nbformat": 4,
 "nbformat_minor": 5
}
